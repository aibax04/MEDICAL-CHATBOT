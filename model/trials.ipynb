{
 "cells": [
  {
   "cell_type": "code",
   "execution_count": 5,
   "metadata": {},
   "outputs": [
    {
     "name": "stderr",
     "output_type": "stream",
     "text": [
      "c:\\Users\\mohda\\anaconda3\\envs\\mchatbot\\lib\\site-packages\\pinecone\\data\\index.py:1: TqdmWarning: IProgress not found. Please update jupyter and ipywidgets. See https://ipywidgets.readthedocs.io/en/stable/user_install.html\n",
      "  from tqdm.autonotebook import tqdm\n"
     ]
    }
   ],
   "source": [
    "from langchain import PromptTemplate\n",
    "from langchain.chains import RetrievalQA\n",
    "from langchain.embeddings import HuggingFaceEmbeddings\n",
    "from langchain.vectorstores import Pinecone\n",
    "import pinecone\n",
    "from langchain.document_loaders import PyPDFLoader, DirectoryLoader\n",
    "from langchain.text_splitter import RecursiveCharacterTextSplitter\n",
    "from langchain.prompts import PromptTemplate\n",
    "from langchain.llms import CTransformers"
   ]
  },
  {
   "cell_type": "markdown",
   "metadata": {},
   "source": []
  },
  {
   "cell_type": "code",
   "execution_count": 7,
   "metadata": {},
   "outputs": [],
   "source": [
    "PINECONE_API_KEY=\"pcsk_2XdP2h_5AedwaRkQStF6kBkusRruC5Ka29QeEhNj67LhJ9cLJEeo3rseKfPPFEcPFsjBmj\"\n",
    "PINECONE_API_ENV =\"us-east-1\""
   ]
  },
  {
   "cell_type": "code",
   "execution_count": 16,
   "metadata": {},
   "outputs": [],
   "source": [
    "def load_pdf(data) :\n",
    "    DirectoryLoader(data,\n",
    "                    glob=\"*.pdf\",\n",
    "                    loader_cls=PyPDFLoader)\n",
    "    \n",
    "    documents= loader.load()\n",
    "\n",
    "    return documents"
   ]
  },
  {
   "cell_type": "code",
   "execution_count": 20,
   "metadata": {},
   "outputs": [],
   "source": [
    "from langchain.document_loaders import DirectoryLoader, PyPDFLoader\n",
    "\n",
    "def load_pdf(data):\n",
    "    # Define the loader variable properly\n",
    "    loader = DirectoryLoader(\n",
    "        data,\n",
    "        glob=\"*.pdf\",\n",
    "        loader_cls=PyPDFLoader\n",
    "    )\n",
    "    \n",
    "    # Now it will work\n",
    "    documents = loader.load()\n",
    "    return documents\n",
    "\n",
    "# Call the function\n",
    "  # Print first 3 documents for verification\n"
   ]
  },
  {
   "cell_type": "code",
   "execution_count": 22,
   "metadata": {},
   "outputs": [
    {
     "name": "stdout",
     "output_type": "stream",
     "text": [
      "c:\\Users\\mohda\\OneDrive\\Desktop\\MEDICAL-CHATBOT\\model\\data\n"
     ]
    }
   ],
   "source": [
    "import os\n",
    "print(os.path.abspath(\"data/\"))"
   ]
  },
  {
   "cell_type": "code",
   "execution_count": 24,
   "metadata": {},
   "outputs": [
    {
     "name": "stdout",
     "output_type": "stream",
     "text": [
      "[Document(metadata={'source': 'C:\\\\Users\\\\mohda\\\\OneDrive\\\\Desktop\\\\MEDICAL-CHATBOT\\\\data\\\\Medical_book.pdf', 'page': 0}, page_content=''), Document(metadata={'source': 'C:\\\\Users\\\\mohda\\\\OneDrive\\\\Desktop\\\\MEDICAL-CHATBOT\\\\data\\\\Medical_book.pdf', 'page': 1}, page_content='The GALE\\nENCYCLOPEDIA\\nof MEDICINE\\nSECOND EDITION'), Document(metadata={'source': 'C:\\\\Users\\\\mohda\\\\OneDrive\\\\Desktop\\\\MEDICAL-CHATBOT\\\\data\\\\Medical_book.pdf', 'page': 2}, page_content='The GALE\\nENCYCLOPEDIA\\nof MEDICINE\\nSECOND EDITION\\nJACQUELINE L. LONGE, EDITOR\\nDEIRDRE S. BLANCHFIELD, ASSOCIATE EDITOR\\nVOLUME\\nA-B\\n1')]\n"
     ]
    }
   ],
   "source": [
    "import os\n",
    "from langchain.document_loaders import DirectoryLoader, PyPDFLoader\n",
    "\n",
    "def load_pdf(data_path):\n",
    "    data_path = os.path.abspath(data_path)  # Convert to absolute path\n",
    "    if not os.path.exists(data_path):\n",
    "        raise FileNotFoundError(f\"Directory not found: {data_path}\")\n",
    "\n",
    "    loader = DirectoryLoader(\n",
    "        data_path,\n",
    "        glob=\"*.pdf\",\n",
    "        loader_cls=PyPDFLoader\n",
    "    )\n",
    "    \n",
    "    documents = loader.load()\n",
    "    return documents\n",
    "\n",
    "# Use an absolute path to avoid issues\n",
    "extracted_data = load_pdf(\"C:/Users/mohda/OneDrive/Desktop/MEDICAL-CHATBOT/data/\")  \n",
    "print(extracted_data[:3])  # Print first 3 documents to verify\n"
   ]
  },
  {
   "cell_type": "code",
   "execution_count": 26,
   "metadata": {},
   "outputs": [],
   "source": [
    "# extracted_data"
   ]
  },
  {
   "cell_type": "code",
   "execution_count": null,
   "metadata": {},
   "outputs": [],
   "source": []
  }
 ],
 "metadata": {
  "kernelspec": {
   "display_name": "mchatbot",
   "language": "python",
   "name": "python3"
  },
  "language_info": {
   "codemirror_mode": {
    "name": "ipython",
    "version": 3
   },
   "file_extension": ".py",
   "mimetype": "text/x-python",
   "name": "python",
   "nbconvert_exporter": "python",
   "pygments_lexer": "ipython3",
   "version": "3.8.20"
  }
 },
 "nbformat": 4,
 "nbformat_minor": 2
}
